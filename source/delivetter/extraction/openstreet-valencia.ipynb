{
 "cells": [
  {
   "cell_type": "markdown",
   "metadata": {},
   "source": [
    "## Representation of the data on maps"
   ]
  },
  {
   "cell_type": "markdown",
   "metadata": {},
   "source": [
    "### Package import"
   ]
  },
  {
   "cell_type": "code",
   "execution_count": 17,
   "metadata": {},
   "outputs": [],
   "source": [
    "import geopandas as gpd\n",
    "import folium\n",
    "import numpy as np\n",
    "import matplotlib.pyplot as plt\n",
    "from shapely.geometry import LineString, Point\n",
    "import osmnx as ox\n",
    "import pandas as pd"
   ]
  },
  {
   "cell_type": "markdown",
   "metadata": {},
   "source": [
    "### Open data extraction"
   ]
  },
  {
   "cell_type": "code",
   "execution_count": null,
   "metadata": {},
   "outputs": [],
   "source": [
    "barrios=gpd.read_file(\"barrios/barris-barrios.shp\")\n",
    "puntos_carga = gpd.read_file(\"zonas-carrega-descarrega/zones-carrega-descarrega-zonas-carga-descarga.shp\")"
   ]
  },
  {
   "cell_type": "code",
   "execution_count": null,
   "metadata": {},
   "outputs": [
    {
     "data": {
      "text/plain": [
       "'\\n# Asegúrate de que \\'barrios\\' es un objeto de tipo GeoDataFrame y \\'barrios.union_all()\\' sea un polígono válido\\npolygon = barrios.union_all()\\n\\n# Descargamos el grafo dentro del polígono con los parámetros requeridos\\ngraph = ox.graph_from_polygon(polygon, \\n                              network_type=\"all\",  # Tipo de red, elige el que desees (\"walk\", \"drive\", etc.)\\n                              simplify=False,  # No simplificar los nodos\\n                              retain_all=True,  # Mantener todos los componentes del grafo\\n                              truncate_by_edge=True)  # Mantener las calles que están parcialmente dentro y fuera del polígono\\n\\n# Convertir el grafo a dos GeoDataFrames: uno para nodos y otro para aristas\\ngdf_nodes, gdf_edges = ox.graph_to_gdfs(graph, nodes=True, edges=True)\\n\\n# Filtrar gdf_edges eliminando las filas con esos valores en la columna \\'access\\'\\nvalores_no_utiles_access = [\\'private\\', \\'no\\', \\'customers\\']\\ngdf_edges_filtrado = gdf_edges[~gdf_edges[\\'access\\'].isin(valores_no_utiles_access)]\\n\\n# Filtrar las filas para eliminar los tipos de calle no deseados\\nvalores_no_utiles_highway = [\\'elevator\\', \\'busway\\', \\'corridor\\', \\'unclassified\\', \\'services\\', \\'cycleway\\', \\'steps\\']\\ngdf_edges_filtrado = gdf_edges_filtrado[~gdf_edges_filtrado[\\'highway\\'].isin(valores_no_utiles_highway)]\\n\\n# Obtener los nodos asociados a las aristas filtradas, utilizando el MultiIndex\\nnodos_filtrados = pd.concat([gdf_edges_filtrado.index.get_level_values(\\'u\\').to_series(), \\n                             gdf_edges_filtrado.index.get_level_values(\\'v\\').to_series()]).unique()\\n\\n# Filtrar gdf_nodes para que solo contenga los nodos asociados a las aristas restantes\\ngdf_nodes_filtrado = gdf_nodes[gdf_nodes.index.isin(nodos_filtrados)]\\n\\n# Asegurarse de no eliminar nodos que aún estén conectados a aristas válidas\\n# Obtener los nodos asociados a las aristas eliminadas para evitar que esos nodos sean filtrados\\nnodos_no_utilizados = set(gdf_edges.index.get_level_values(\\'u\\')).union(set(gdf_edges.index.get_level_values(\\'v\\'))) - set(nodos_filtrados)\\n\\n# Asegurarse de que los nodos no eliminados no se pierdan\\ngdf_nodes_filtrado = gdf_nodes_filtrado[~gdf_nodes_filtrado.index.isin(nodos_no_utilizados)]\\n\\n# Eliminar las aristas que tienen nodos que han sido eliminados (es decir, nodos que no están en gdf_nodes_filtrado)\\ngdf_edges_filtrado = gdf_edges_filtrado[gdf_edges_filtrado.index.get_level_values(\\'u\\').isin(gdf_nodes_filtrado.index) &\\n                                         gdf_edges_filtrado.index.get_level_values(\\'v\\').isin(gdf_nodes_filtrado.index)]\\n                                        \\n# Definir los valores que indican que no hay restricción\\nsin_restriccion = {\\'motorway\\', \\'residential\\', \\'secondary\\', \\'living_street\\', \\n                   \\'primary_link\\', \\'primary\\', \\'tertiary\\', \\'trunk\\',\\n                   \\'service\\', \\'tertiary_link\\', \\'trunk_link\\', \\'secondary_link\\',\\n                   \\'motorway_link\\', \\'road\\'}\\n\\n# Crear la nueva columna \\'Model3\\' con True o False\\ngdf_edges_filtrado[\"Model3\"] = ~gdf_edges_filtrado[\"highway\"].isin(sin_restriccion)                \\n\\n# Guardar\\ngdf_edges_filtrado.to_file(\"openstreet/open-valencia-edges.shp\")\\ngdf_nodes_filtrado.to_file(\"openstreet/open-valencia-nodes.shp\")\\n'"
      ]
     },
     "execution_count": 18,
     "metadata": {},
     "output_type": "execute_result"
    }
   ],
   "source": [
    "\n",
    "# Asegúrate de que 'barrios' es un objeto de tipo GeoDataFrame y 'barrios.union_all()' sea un polígono válido\n",
    "polygon = barrios.union_all()\n",
    "\n",
    "# Descargamos el grafo dentro del polígono con los parámetros requeridos\n",
    "graph = ox.graph_from_polygon(polygon, \n",
    "                              network_type=\"all\",  # Tipo de red, elige el que desees (\"walk\", \"drive\", etc.)\n",
    "                              simplify=False,  # No simplificar los nodos\n",
    "                              retain_all=True,  # Mantener todos los componentes del grafo\n",
    "                              truncate_by_edge=True)  # Mantener las calles que están parcialmente dentro y fuera del polígono\n",
    "\n",
    "# Convertir el grafo a dos GeoDataFrames: uno para nodos y otro para aristas\n",
    "gdf_nodes, gdf_edges = ox.graph_to_gdfs(graph, nodes=True, edges=True)\n",
    "\n",
    "# Filtrar gdf_edges eliminando las filas con esos valores en la columna 'access'\n",
    "valores_no_utiles_access = ['private', 'no', 'customers']\n",
    "gdf_edges_filtrado = gdf_edges[~gdf_edges['access'].isin(valores_no_utiles_access)]\n",
    "\n",
    "# Filtrar las filas para eliminar los tipos de calle no deseados\n",
    "valores_no_utiles_highway = ['elevator', 'busway', 'corridor', 'unclassified', 'services', 'cycleway', 'steps']\n",
    "gdf_edges_filtrado = gdf_edges_filtrado[~gdf_edges_filtrado['highway'].isin(valores_no_utiles_highway)]\n",
    "\n",
    "# Obtener los nodos asociados a las aristas filtradas, utilizando el MultiIndex\n",
    "nodos_filtrados = pd.concat([gdf_edges_filtrado.index.get_level_values('u').to_series(), \n",
    "                             gdf_edges_filtrado.index.get_level_values('v').to_series()]).unique()\n",
    "\n",
    "# Filtrar gdf_nodes para que solo contenga los nodos asociados a las aristas restantes\n",
    "gdf_nodes_filtrado = gdf_nodes[gdf_nodes.index.isin(nodos_filtrados)]\n",
    "\n",
    "# Asegurarse de no eliminar nodos que aún estén conectados a aristas válidas\n",
    "# Obtener los nodos asociados a las aristas eliminadas para evitar que esos nodos sean filtrados\n",
    "nodos_no_utilizados = set(gdf_edges.index.get_level_values('u')).union(set(gdf_edges.index.get_level_values('v'))) - set(nodos_filtrados)\n",
    "\n",
    "# Asegurarse de que los nodos no eliminados no se pierdan\n",
    "gdf_nodes_filtrado = gdf_nodes_filtrado[~gdf_nodes_filtrado.index.isin(nodos_no_utilizados)]\n",
    "\n",
    "# Eliminar las aristas que tienen nodos que han sido eliminados (es decir, nodos que no están en gdf_nodes_filtrado)\n",
    "gdf_edges_filtrado = gdf_edges_filtrado[gdf_edges_filtrado.index.get_level_values('u').isin(gdf_nodes_filtrado.index) &\n",
    "                                         gdf_edges_filtrado.index.get_level_values('v').isin(gdf_nodes_filtrado.index)]\n",
    "                                        \n",
    "# Definir los valores que indican que no hay restricción\n",
    "sin_restriccion = {'motorway', 'residential', 'secondary', 'living_street', \n",
    "                   'primary_link', 'primary', 'tertiary', 'trunk',\n",
    "                   'service', 'tertiary_link', 'trunk_link', 'secondary_link',\n",
    "                   'motorway_link', 'road'}\n",
    "\n",
    "# Crear la nueva columna 'Model3' con True o False\n",
    "gdf_edges_filtrado[\"Model3\"] = ~gdf_edges_filtrado[\"highway\"].isin(sin_restriccion)                \n",
    "\n",
    "# Guardar\n",
    "gdf_edges_filtrado.to_file(\"openstreet/open-valencia-edges.shp\")\n",
    "gdf_nodes_filtrado.to_file(\"openstreet/open-valencia-nodes.shp\")"
   ]
  }
 ],
 "metadata": {
  "kernelspec": {
   "display_name": "Python 3",
   "language": "python",
   "name": "python3"
  },
  "language_info": {
   "codemirror_mode": {
    "name": "ipython",
    "version": 3
   },
   "file_extension": ".py",
   "mimetype": "text/x-python",
   "name": "python",
   "nbconvert_exporter": "python",
   "pygments_lexer": "ipython3",
   "version": "3.11.9"
  }
 },
 "nbformat": 4,
 "nbformat_minor": 2
}
