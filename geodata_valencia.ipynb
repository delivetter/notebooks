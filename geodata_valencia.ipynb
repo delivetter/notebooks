{
 "cells": [
  {
   "cell_type": "code",
   "execution_count": 3,
   "metadata": {},
   "outputs": [],
   "source": [
    "import geopandas as gpd\n",
    "import folium"
   ]
  },
  {
   "cell_type": "code",
   "execution_count": 4,
   "metadata": {},
   "outputs": [],
   "source": [
    "# Cargar el shapefile en un GeoDataFrame\n",
    "gdf = gpd.read_file(\"data/valencia_vial/rt_tramo_vial.shp\")\n"
   ]
  },
  {
   "cell_type": "code",
   "execution_count": 5,
   "metadata": {},
   "outputs": [
    {
     "data": {
      "text/plain": [
       "id_tramo                                           460010000005\n",
       "id_vial                                            460010000017\n",
       "tipo_tramo                                                    1\n",
       "tipo_tramd                                              Troncal\n",
       "calzada                                                       1\n",
       "calzadad                                                  Única\n",
       "acceso                                                        1\n",
       "accesod                                                   Libre\n",
       "firme                                                         1\n",
       "firmed                                              Pavimentado\n",
       "ncarriles                                                     2\n",
       "sentido                                                       2\n",
       "sentidod                                                  Doble\n",
       "situacion                                                     1\n",
       "situaciond                                        En superficie\n",
       "estadofis                                                     1\n",
       "estadofisd                                          En servicio\n",
       "tipovehic                                                   111\n",
       "tipovehicd                                 Peatón+bici+vehículo\n",
       "titular                                                       5\n",
       "titulard                                           Ayuntamiento\n",
       "orden                                                      -998\n",
       "ordend                                             No aplicable\n",
       "fuente_t                                                     16\n",
       "fuente_td                                  Comunidad Valenciana\n",
       "codigo                                               4600100018\n",
       "dgc_via                                                      17\n",
       "clase                                                      2000\n",
       "clased                                                   Urbano\n",
       "tipo_vial                                                  2015\n",
       "tipo_viald                                                ALDEA\n",
       "nombre                                                    SESGA\n",
       "nombre_alt                                          Desconocido\n",
       "fuente_v                                                      4\n",
       "fuente_vd                     Instituto Nacional de Estadística\n",
       "alta_db                                     2020-05-28 00:00:00\n",
       "geometry      LINESTRING Z (-1.19368236899993 40.02411315200...\n",
       "Name: 1, dtype: object"
      ]
     },
     "execution_count": 5,
     "metadata": {},
     "output_type": "execute_result"
    }
   ],
   "source": [
    "# first row of df\n",
    "\n",
    "gdf.iloc[1]"
   ]
  },
  {
   "cell_type": "code",
   "execution_count": 8,
   "metadata": {},
   "outputs": [
    {
     "name": "stdout",
     "output_type": "stream",
     "text": [
      "(-1.1929938809999499, 40.02322665200006, 1154.949976499995)\n",
      "(-1.1930976749999331, 40.02330322500006, 1153.999976499995)\n"
     ]
    }
   ],
   "source": [
    "from shapely.geometry import LineString\n",
    "\n",
    "for i in gdf[\"geometry\"]:\n",
    "    for coord in list(i.coords):\n",
    "        print(coord)\n",
    "    break"
   ]
  }
 ],
 "metadata": {
  "kernelspec": {
   "display_name": ".venv",
   "language": "python",
   "name": "python3"
  },
  "language_info": {
   "codemirror_mode": {
    "name": "ipython",
    "version": 3
   },
   "file_extension": ".py",
   "mimetype": "text/x-python",
   "name": "python",
   "nbconvert_exporter": "python",
   "pygments_lexer": "ipython3",
   "version": "3.12.8"
  }
 },
 "nbformat": 4,
 "nbformat_minor": 2
}
