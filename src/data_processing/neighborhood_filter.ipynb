{
 "cells": [
  {
   "cell_type": "markdown",
   "metadata": {},
   "source": [
    "## Non valid neighborhood removing"
   ]
  },
  {
   "cell_type": "markdown",
   "metadata": {},
   "source": [
    "### Load data"
   ]
  },
  {
   "cell_type": "code",
   "execution_count": 24,
   "metadata": {},
   "outputs": [
    {
     "name": "stdout",
     "output_type": "stream",
     "text": [
      "✅ 'barris.geojson' successfully loaded (88 records)\n",
      "✅ 'catastro.geojson' successfully loaded (36346 records)\n",
      "✅ 'puntosCID.geojson' successfully loaded (882 records)\n"
     ]
    }
   ],
   "source": [
    "from pathlib import Path\n",
    "import geopandas as gpd\n",
    "\n",
    "def load_data(nombre_archivo, directorio_base='../../data/input'):\n",
    "    \"\"\"\n",
    "    Carga un archivo GeoJSON específico y devuelve un GeoDataFrame.\n",
    "    \n",
    "    Args:\n",
    "        nombre_archivo (str): Nombre del archivo GeoJSON (ej. 'barris.geojson').\n",
    "        directorio_base (str): Ruta relativa al directorio donde se encuentra el archivo.\n",
    "                              Por defecto: '../../data/delivetter'.\n",
    "    \n",
    "    Returns:\n",
    "        gpd.GeoDataFrame: GeoDataFrame con los datos del archivo.\n",
    "    \"\"\"\n",
    "    try:\n",
    "        ruta = Path(directorio_base) / nombre_archivo\n",
    "        \n",
    "        if not ruta.exists():\n",
    "            raise FileNotFoundError(f\"File not found: {ruta.absolute()}\")\n",
    "        \n",
    "        gdf = gpd.read_file(ruta)\n",
    "        print(f\"✅ '{nombre_archivo}' successfully loaded ({len(gdf)} records)\")\n",
    "        return gdf\n",
    "    \n",
    "    except Exception as e:\n",
    "        print(f\"❌ Error loading '{nombre_archivo}': {str(e)}\")\n",
    "    \n",
    "barrios = load_data('barris.geojson')\n",
    "catastro = load_data('catastro.geojson')\n",
    "puntos_carga = load_data('puntosCID.geojson')"
   ]
  },
  {
   "cell_type": "markdown",
   "metadata": {},
   "source": [
    "### Filter"
   ]
  },
  {
   "cell_type": "code",
   "execution_count": 25,
   "metadata": {},
   "outputs": [
    {
     "name": "stdout",
     "output_type": "stream",
     "text": [
      "Zona EL PALMAR: No hay suficientes comercios\n",
      "Zona EL PERELLONET: No hay suficientes comercios\n",
      "Zona SOTERNES: No hay suficientes almacenes\n",
      "Zona LA FONTSANTA: No hay suficientes almacenes\n",
      "Zona BORBOTO: No hay puntos de carga\n",
      "Zona BENIFARAIG: No hay suficientes comercios\n",
      "Zona EL PILAR: No hay puntos de carga\n",
      "Zona POBLE NOU: No hay puntos de carga\n",
      "Zona RAFALELL-VISTABELLA: No hay puntos de carga\n",
      "Zona BENIFERRI: No hay suficientes comercios\n",
      "Zona EL SALER: No hay puntos de carga\n",
      "Zona CARPESA: No hay puntos de carga\n",
      "Zona EL CARME: No hay puntos de carga\n",
      "Zona TRES FORQUES: No hay suficientes almacenes\n",
      "Zona LES CASES DE BARCENA: No hay puntos de carga\n",
      "Zona MAHUELLA-TAULADELLA: No hay puntos de carga\n",
      "Zona MASSARROJOS: No hay suficientes comercios\n",
      "Zona LA FONTETA S.LLUIS: No hay suficientes comercios\n",
      "Zona LA PUNTA: No hay suficientes comercios\n",
      "Zona LA LLUM: No hay suficientes comercios\n",
      "Zona CIUTAT UNIVERSITARIA: No hay suficientes comercios\n",
      "Zona FAITANAR: No hay puntos de carga\n",
      "Zona EL FORN D'ALCEDO: No hay suficientes comercios\n",
      "Zona CIUTAT DE LES ARTS I DE LES CIENCIES: No hay suficientes almacenes\n",
      "Zona NA ROVELLA: No hay puntos de carga\n",
      "\n",
      "\n",
      "Zonas válidas:\n",
      " - PATRAIX\n",
      " - BENICALAP\n",
      " - MESTALLA\n",
      " - BETERO\n",
      " - L'ILLA PERDUDA\n",
      " - LA XEREA\n",
      " - SANT ISIDRE\n",
      " - MORVEDRE\n",
      " - RUSSAFA\n",
      " - EL GRAU\n",
      " - SANT PAU\n",
      " - LA MALVA-ROSA\n",
      " - CIUTAT FALLERA\n",
      " - CAMI DE VERA\n",
      " - LA CREU DEL GRAU\n",
      " - SANT LLORENS\n",
      " - LA CREU COBERTA\n",
      " - LA ROQUETA\n",
      " - LA RAIOSA\n",
      " - LA PETXINA\n",
      " - CAMI FONDO\n",
      " - JAUME ROIG\n",
      " - CABANYAL-CANYAMELAR\n",
      " - CIUTAT JARDI\n",
      " - LES TENDETES\n",
      " - EN CORTS\n",
      " - MONTOLIVET\n",
      " - CAMI REAL\n",
      " - EL PLA DEL REMEI\n",
      " - SANT MARCEL.LI\n",
      " - TRINITAT\n",
      " - SAFRANAR\n",
      " - EL MERCAT\n",
      " - LA TORRE\n",
      " - CAMPANAR\n",
      " - SANT FRANCESC\n",
      " - EL BOTANIC\n",
      " - ELS ORRIOLS\n",
      " - BENIMACLET\n",
      " - BENIMAMET\n",
      " - ALBORS\n",
      " - EXPOSICIO\n",
      " - SANT ANTONI\n",
      " - MARXALENES\n",
      " - L'HORT DE SENABRE\n",
      " - LA SEU\n",
      " - PENYA-ROJA\n",
      " - LA GRAN VIA\n",
      " - FAVARA\n",
      " - LA CARRASCA\n",
      " - NATZARET\n",
      " - ARRANCAPINS\n",
      " - TORREFIEL\n",
      " - EL CALVARI\n",
      " - VARA DE QUART\n",
      " - AIORA\n",
      " - MALILLA\n",
      " - NOU MOLES\n",
      " - LA VEGA BAIXA\n",
      " - TORMOS\n",
      " - PINEDO\n",
      " - L'AMISTAT\n",
      " - CASTELLAR-L'OLIVERAL\n"
     ]
    }
   ],
   "source": [
    "nombres = set(barrios['nombre'])\n",
    "\n",
    "for i, row in barrios.iterrows():\n",
    "    shp_zone = row.geometry\n",
    "    shp_loading_points = puntos_carga[puntos_carga.intersects(shp_zone)]\n",
    "    shp_bajos = catastro[catastro.intersects(shp_zone)]\n",
    "\n",
    "    cid = len(shp_loading_points)\n",
    "    almacen = len(shp_bajos[shp_bajos['Almacen'] == True])\n",
    "    comercio = len(shp_bajos[shp_bajos['Comercio'] == True])\n",
    "\n",
    "    if cid == 0:\n",
    "        nombres.remove(row['nombre'])\n",
    "        print(f\"Zona {row['nombre']}: No hay puntos de carga\")\n",
    "\n",
    "    elif almacen < 3:\n",
    "        nombres.remove(row['nombre'])\n",
    "        print(f\"Zona {row['nombre']}: No hay suficientes almacenes\")\n",
    "\n",
    "    elif comercio < 20:\n",
    "        nombres.remove(row['nombre'])\n",
    "        print(f\"Zona {row['nombre']}: No hay suficientes comercios\")\n",
    "\n",
    "print(f\"\\n\\nZonas válidas:\")\n",
    "for nombre in nombres:\n",
    "    print(f\" - {nombre}\")"
   ]
  },
  {
   "cell_type": "markdown",
   "metadata": {},
   "source": [
    "### Remove"
   ]
  },
  {
   "cell_type": "code",
   "execution_count": 26,
   "metadata": {},
   "outputs": [
    {
     "name": "stdout",
     "output_type": "stream",
     "text": [
      "✅  Barrios disponibles: 63\n"
     ]
    }
   ],
   "source": [
    "barrios_filtrados = barrios[barrios['nombre'].isin(nombres)]\n",
    "barrios_filtrados = barrios_filtrados.reset_index(drop=True)\n",
    "barrios_filtrados.to_file('../../data/input/barris.geojson', driver=\"GeoJSON\")\n",
    "print(f\"✅  Barrios disponibles: {len(barrios_filtrados)}\")\n"
   ]
  }
 ],
 "metadata": {
  "kernelspec": {
   "display_name": "Python 3",
   "language": "python",
   "name": "python3"
  },
  "language_info": {
   "codemirror_mode": {
    "name": "ipython",
    "version": 3
   },
   "file_extension": ".py",
   "mimetype": "text/x-python",
   "name": "python",
   "nbconvert_exporter": "python",
   "pygments_lexer": "ipython3",
   "version": "3.13.2"
  }
 },
 "nbformat": 4,
 "nbformat_minor": 2
}
